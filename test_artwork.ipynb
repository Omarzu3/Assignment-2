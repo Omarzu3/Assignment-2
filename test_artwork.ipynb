{
 "cells": [
  {
   "cell_type": "code",
   "execution_count": 1,
   "id": "264cd0cc",
   "metadata": {},
   "outputs": [
    {
     "name": "stdout",
     "output_type": "stream",
     "text": [
      "Artwork information:\n",
      "ID: 1\n",
      "Title: The Starry Night\n",
      "Artist: Vincent van Gogh\n",
      "Creation Date: 1889-06-19\n",
      "Historical Significance: Iconic landscape\n",
      "Location: Location ID: 1, Name: Gallery 1\n",
      "\n",
      "Updated Artwork information:\n",
      "ID: 2\n",
      "Title: Starry Night Over the Rhône\n",
      "Artist: Vincent van Gogh\n",
      "Creation Date: 1888-09-18\n",
      "Historical Significance: Starry night scene\n",
      "Location: Location ID: 2, Name: Gallery 2\n"
     ]
    }
   ],
   "source": [
    "def test_artwork():\n",
    "    # Importing date from the datetime module\n",
    "    from datetime import date\n",
    "    # Import the Location and Artwork classes\n",
    "    from location import Location\n",
    "    from artwork import Artwork\n",
    "\n",
    "    # Create a Location object\n",
    "    location = Location(1, \"Gallery 1\")\n",
    "\n",
    "    # Create an Artwork object\n",
    "    artwork = Artwork(1, \"The Starry Night\", \"Vincent van Gogh\", date(1889, 6, 19), \"Iconic landscape\", location)\n",
    "\n",
    "    # Print artwork information\n",
    "    print(\"Artwork information:\")\n",
    "    print(\"ID:\", artwork.getId())\n",
    "    print(\"Title:\", artwork.getTitle())\n",
    "    print(\"Artist:\", artwork.getArtist())\n",
    "    print(\"Creation Date:\", artwork.getCreationDate())\n",
    "    print(\"Historical Significance:\", artwork.getHistoricalSignificance())\n",
    "    print(\"Location:\", artwork.getLocation())\n",
    "\n",
    "    # Test getters\n",
    "    assert artwork.getId() == 1\n",
    "    assert artwork.getTitle() == \"The Starry Night\"\n",
    "    assert artwork.getArtist() == \"Vincent van Gogh\"\n",
    "    assert artwork.getCreationDate() == date(1889, 6, 19)\n",
    "    assert artwork.getHistoricalSignificance() == \"Iconic landscape\"\n",
    "    assert artwork.getLocation() == location\n",
    "\n",
    "    # Test setters\n",
    "    artwork.setId(2)\n",
    "    artwork.setTitle(\"Starry Night Over the Rhône\")\n",
    "    artwork.setArtist(\"Vincent van Gogh\")\n",
    "    artwork.setCreationDate(date(1888, 9, 18))\n",
    "    artwork.setHistoricalSignificance(\"Starry night scene\")\n",
    "    new_location = Location(2, \"Gallery 2\")\n",
    "    artwork.setLocation(new_location)\n",
    "\n",
    "    # Print updated artwork information\n",
    "    print(\"\\nUpdated Artwork information:\")\n",
    "    print(\"ID:\", artwork.getId())\n",
    "    print(\"Title:\", artwork.getTitle())\n",
    "    print(\"Artist:\", artwork.getArtist())\n",
    "    print(\"Creation Date:\", artwork.getCreationDate())\n",
    "    print(\"Historical Significance:\", artwork.getHistoricalSignificance())\n",
    "    print(\"Location:\", artwork.getLocation())\n",
    "\n",
    "    # Verify changes\n",
    "    assert artwork.getId() == 2\n",
    "    assert artwork.getTitle() == \"Starry Night Over the Rhône\"\n",
    "    assert artwork.getArtist() == \"Vincent van Gogh\"\n",
    "    assert artwork.getCreationDate() == date(1888, 9, 18)\n",
    "    assert artwork.getHistoricalSignificance() == \"Starry night scene\"\n",
    "    assert artwork.getLocation() == new_location\n",
    "\n",
    "if __name__ == \"__main__\":\n",
    "    test_artwork()\n"
   ]
  },
  {
   "cell_type": "code",
   "execution_count": null,
   "id": "3abda205",
   "metadata": {},
   "outputs": [],
   "source": []
  }
 ],
 "metadata": {
  "kernelspec": {
   "display_name": "Python 3 (ipykernel)",
   "language": "python",
   "name": "python3"
  },
  "language_info": {
   "codemirror_mode": {
    "name": "ipython",
    "version": 3
   },
   "file_extension": ".py",
   "mimetype": "text/x-python",
   "name": "python",
   "nbconvert_exporter": "python",
   "pygments_lexer": "ipython3",
   "version": "3.10.9"
  }
 },
 "nbformat": 4,
 "nbformat_minor": 5
}
