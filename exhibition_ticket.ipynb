{
 "cells": [
  {
   "cell_type": "code",
   "execution_count": 2,
   "id": "d7187313",
   "metadata": {},
   "outputs": [],
   "source": [
    "from general_ticket import GeneralTicket\n",
    "from exhibition import Exhibition\n",
    "from datetime import date\n",
    "\n",
    "class ExhibitionTicket(GeneralTicket):\n",
    "    def __init__(self, id: int, visitor: 'Visitor', price: float, date: date, exhibition: Exhibition):\n",
    "        # Initialize ExhibitionTicket object with id, visitor, price, date, and exhibition\n",
    "        super().__init__(id, visitor, price, date)\n",
    "        self.exhibition = exhibition\n"
   ]
  },
  {
   "cell_type": "code",
   "execution_count": null,
   "id": "43e76f6e",
   "metadata": {},
   "outputs": [],
   "source": []
  }
 ],
 "metadata": {
  "kernelspec": {
   "display_name": "Python 3 (ipykernel)",
   "language": "python",
   "name": "python3"
  },
  "language_info": {
   "codemirror_mode": {
    "name": "ipython",
    "version": 3
   },
   "file_extension": ".py",
   "mimetype": "text/x-python",
   "name": "python",
   "nbconvert_exporter": "python",
   "pygments_lexer": "ipython3",
   "version": "3.10.9"
  }
 },
 "nbformat": 4,
 "nbformat_minor": 5
}
