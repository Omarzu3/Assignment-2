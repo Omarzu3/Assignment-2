{
 "cells": [
  {
   "cell_type": "code",
   "execution_count": 2,
   "id": "d6012ff4",
   "metadata": {},
   "outputs": [],
   "source": [
    "from datetime import date\n",
    "\n",
    "class SpecialEvent:\n",
    "    def __init__(self, id: int, title: str, date: date, location: 'Location'):\n",
    "        # Initialize SpecialEvent object with id, title, date, and location\n",
    "        self.__id = id\n",
    "        self.title = title\n",
    "        self.date = date\n",
    "        self.location = location\n",
    "\n",
    "    def getId(self) -> int:\n",
    "        # Get the ID of the special event\n",
    "        return self.__id\n",
    "\n",
    "    def setId(self, id: int) -> None:\n",
    "        # Set the ID of the special event\n",
    "        self.__id = id\n",
    "\n",
    "    def getTitle(self) -> str:\n",
    "        # Get the title of the special event\n",
    "        return self.title\n",
    "\n",
    "    def setTitle(self, title: str) -> None:\n",
    "        # Set the title of the special event\n",
    "        self.title = title\n",
    "\n",
    "    def getDate(self) -> date:\n",
    "        # Get the date of the special event\n",
    "        return self.date\n",
    "\n",
    "    def setDate(self, date: date) -> None:\n",
    "        # Set the date of the special event\n",
    "        self.date = date\n",
    "\n",
    "    def getLocation(self) -> 'Location':\n",
    "        # Get the location of the special event\n",
    "        return self.location\n",
    "\n",
    "    def setLocation(self, location: 'Location') -> None:\n",
    "        # Set the location of the special event\n",
    "        self.location = location\n"
   ]
  },
  {
   "cell_type": "code",
   "execution_count": null,
   "id": "03ef11e9",
   "metadata": {},
   "outputs": [],
   "source": []
  },
  {
   "cell_type": "code",
   "execution_count": null,
   "id": "1e8a6d03",
   "metadata": {},
   "outputs": [],
   "source": []
  }
 ],
 "metadata": {
  "kernelspec": {
   "display_name": "Python 3 (ipykernel)",
   "language": "python",
   "name": "python3"
  },
  "language_info": {
   "codemirror_mode": {
    "name": "ipython",
    "version": 3
   },
   "file_extension": ".py",
   "mimetype": "text/x-python",
   "name": "python",
   "nbconvert_exporter": "python",
   "pygments_lexer": "ipython3",
   "version": "3.10.9"
  }
 },
 "nbformat": 4,
 "nbformat_minor": 5
}
