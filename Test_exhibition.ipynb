{
 "cells": [
  {
   "cell_type": "code",
   "execution_count": 19,
   "id": "b8dc21fa",
   "metadata": {},
   "outputs": [
    {
     "name": "stdout",
     "output_type": "stream",
     "text": [
      "Exhibition information:\n",
      "ID: 1\n",
      "Title: Modern Art Exhibition\n",
      "Start Date: 2024-03-01\n",
      "End Date: 2024-03-15\n",
      "Location: Auditoriam\n"
     ]
    }
   ],
   "source": [
    "from datetime import date\n",
    "from exhibition import Exhibition\n",
    "from location import Location  # Assuming you have a Location class defined\n",
    "\n",
    "def test_exhibition():\n",
    "    # Create a Location object\n",
    "    location = Location(1, \"Gallery 1\")\n",
    "\n",
    "    # Create an Exhibition object\n",
    "    exhibition = Exhibition(1, \"Modern Art Exhibition\", date(2024, 3, 1), date(2024, 3, 15), \"Auditoriam\")\n",
    "\n",
    "    # Print information before testing\n",
    "    print(\"Exhibition information:\")\n",
    "    print(\"ID:\", exhibition.getId())\n",
    "    print(\"Title:\", exhibition.getTitle())\n",
    "    print(\"Start Date:\", exhibition.getStartDate())\n",
    "    print(\"End Date:\", exhibition.getEndDate())\n",
    "    print(\"Location:\", exhibition.getLocation())\n",
    "\n",
    "    # Test getters\n",
    "    assert exhibition.getId() == 1\n",
    "    assert exhibition.getTitle() == \"Modern Art Exhibition\"\n",
    "    assert exhibition.getStartDate() == date(2024, 3, 1)\n",
    "    assert exhibition.getEndDate() == date(2024, 3, 15)\n",
    "    assert exhibition.getLocation() ==\"Auditoriam\"\n",
    "\n",
    "    \n",
    "\n",
    "if __name__ == \"__main__\":\n",
    "    test_exhibition()\n"
   ]
  },
  {
   "cell_type": "code",
   "execution_count": null,
   "id": "617a94bd",
   "metadata": {},
   "outputs": [],
   "source": []
  },
  {
   "cell_type": "code",
   "execution_count": null,
   "id": "510d2b22",
   "metadata": {},
   "outputs": [],
   "source": []
  },
  {
   "cell_type": "code",
   "execution_count": null,
   "id": "154cba93",
   "metadata": {},
   "outputs": [],
   "source": []
  },
  {
   "cell_type": "code",
   "execution_count": null,
   "id": "322a37d0",
   "metadata": {},
   "outputs": [],
   "source": []
  },
  {
   "cell_type": "code",
   "execution_count": null,
   "id": "41e777ff",
   "metadata": {},
   "outputs": [],
   "source": []
  },
  {
   "cell_type": "code",
   "execution_count": null,
   "id": "2d449390",
   "metadata": {},
   "outputs": [],
   "source": []
  }
 ],
 "metadata": {
  "kernelspec": {
   "display_name": "Python 3 (ipykernel)",
   "language": "python",
   "name": "python3"
  },
  "language_info": {
   "codemirror_mode": {
    "name": "ipython",
    "version": 3
   },
   "file_extension": ".py",
   "mimetype": "text/x-python",
   "name": "python",
   "nbconvert_exporter": "python",
   "pygments_lexer": "ipython3",
   "version": "3.10.9"
  }
 },
 "nbformat": 4,
 "nbformat_minor": 5
}
