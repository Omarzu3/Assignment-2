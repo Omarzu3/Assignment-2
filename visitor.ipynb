{
 "cells": [
  {
   "cell_type": "code",
   "execution_count": 1,
   "id": "2670ca36",
   "metadata": {},
   "outputs": [],
   "source": [
    "class Visitor:\n",
    "    def __init__(self, id: int, name: str, age: int, idCard: str = \"\"):\n",
    "        # Initialize Visitor object with id, name, age, and idCard\n",
    "        self.__id = id\n",
    "        self.name = name\n",
    "        self.age = age\n",
    "        self.idCard = idCard\n",
    "        self.ticket = None\n",
    "\n",
    "    def getId(self) -> int:\n",
    "        # Get the ID of the visitor\n",
    "        return self.__id\n",
    "\n",
    "    def setId(self, id: int) -> None:\n",
    "        # Set the ID of the visitor\n",
    "        self.__id = id\n",
    "\n",
    "    def getName(self) -> str:\n",
    "        # Get the name of the visitor\n",
    "        return self.name\n",
    "\n",
    "    def setName(self, name: str) -> None:\n",
    "        # Set the name of the visitor\n",
    "        self.name = name\n",
    "\n",
    "    def getAge(self) -> int:\n",
    "        # Get the age of the visitor\n",
    "        return self.age\n",
    "\n",
    "    def setAge(self, age: int) -> None:\n",
    "        # Set the age of the visitor\n",
    "        self.age = age\n",
    "\n",
    "    def getIdCard(self) -> str:\n",
    "        # Get the ID card of the visitor\n",
    "        return self.idCard\n",
    "\n",
    "    def setIdCard(self, idCard: str) -> None:\n",
    "        # Set the ID card of the visitor\n",
    "        self.idCard = idCard\n",
    "\n",
    "    def getTicket(self) -> 'Ticket':\n",
    "        # Get the ticket of the visitor\n",
    "        return self.ticket\n",
    "\n",
    "    def setTicket(self, ticket: 'Ticket') -> None:\n",
    "        # Set the ticket for the visitor\n",
    "        self.ticket = ticket\n",
    "\n",
    "    def __str__(self):\n",
    "        # Return a string representation of the Visitor object\n",
    "        return f\"Visitor ID: {self.__id}, Name: {self.name}, Age: {self.age}, ID Card: {self.idCard}\"\n"
   ]
  },
  {
   "cell_type": "code",
   "execution_count": null,
   "id": "bd7edcc9",
   "metadata": {},
   "outputs": [],
   "source": []
  },
  {
   "cell_type": "code",
   "execution_count": null,
   "id": "daee6fcb",
   "metadata": {},
   "outputs": [],
   "source": []
  }
 ],
 "metadata": {
  "kernelspec": {
   "display_name": "Python 3 (ipykernel)",
   "language": "python",
   "name": "python3"
  },
  "language_info": {
   "codemirror_mode": {
    "name": "ipython",
    "version": 3
   },
   "file_extension": ".py",
   "mimetype": "text/x-python",
   "name": "python",
   "nbconvert_exporter": "python",
   "pygments_lexer": "ipython3",
   "version": "3.10.9"
  }
 },
 "nbformat": 4,
 "nbformat_minor": 5
}
