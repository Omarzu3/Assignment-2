{
 "cells": [
  {
   "cell_type": "code",
   "execution_count": 18,
   "id": "18ba29fe",
   "metadata": {},
   "outputs": [
    {
     "name": "stdout",
     "output_type": "stream",
     "text": [
      "Visitor ID: 1\n",
      "Visitor Name: Ali\n",
      "Visitor Age: 30\n",
      "Visitor ID Card: ABC123\n",
      "Visitor Ticket: None\n",
      "\n",
      "Updated Visitor Details:\n",
      "Visitor ID: 2\n",
      "Visitor Name: Ali\n",
      "Visitor Age: 25\n",
      "Visitor ID Card: XYZ789\n",
      "\n",
      "Visitor Ticket:\n",
      "Ticket ID: 1\n",
      "Ticket Price: 50.0\n",
      "Ticket Date: 2024-03-30\n"
     ]
    }
   ],
   "source": [
    "from datetime import date\n",
    "from ticket import Ticket\n",
    "from visitor import Visitor\n",
    "\n",
    "def test_visitor():\n",
    "    # Create a Visitor object\n",
    "    visitor = Visitor(1, \"Ali\", 30, \"ABC123\")\n",
    "\n",
    "    # Test getters\n",
    "    print(\"Visitor ID:\", visitor.getId())\n",
    "    print(\"Visitor Name:\", visitor.getName())\n",
    "    print(\"Visitor Age:\", visitor.getAge())\n",
    "    print(\"Visitor ID Card:\", visitor.getIdCard())\n",
    "    print(\"Visitor Ticket:\", visitor.getTicket())\n",
    "\n",
    "    assert visitor.getId() == 1\n",
    "    assert visitor.getName() == \"Ali\"\n",
    "    assert visitor.getAge() == 30\n",
    "    assert visitor.getIdCard() == \"ABC123\"\n",
    "    assert visitor.getTicket() is None\n",
    "\n",
    "    # Test setters\n",
    "    visitor.setId(2)\n",
    "    visitor.setName(\"Ali\")\n",
    "    visitor.setAge(25)\n",
    "    visitor.setIdCard(\"XYZ789\")\n",
    "\n",
    "    print(\"\\nUpdated Visitor Details:\")\n",
    "    print(\"Visitor ID:\", visitor.getId())\n",
    "    print(\"Visitor Name:\", visitor.getName())\n",
    "    print(\"Visitor Age:\", visitor.getAge())\n",
    "    print(\"Visitor ID Card:\", visitor.getIdCard())\n",
    "\n",
    "    assert visitor.getId() == 2\n",
    "    assert visitor.getName() == \"Ali\"\n",
    "    assert visitor.getAge() == 25\n",
    "    assert visitor.getIdCard() == \"XYZ789\"\n",
    "\n",
    "    # Create a Ticket object\n",
    "    ticket = Ticket(1, visitor, 50.0, date.today())\n",
    "    visitor.setTicket(ticket)\n",
    "\n",
    "    print(\"\\nVisitor Ticket:\")\n",
    "    print(\"Ticket ID:\", visitor.getTicket().getId())\n",
    "    print(\"Ticket Price:\", visitor.getTicket().getPrice())\n",
    "    print(\"Ticket Date:\", visitor.getTicket().getDate())\n",
    "\n",
    "    assert visitor.getTicket() == ticket\n",
    "\n",
    "if __name__ == \"__main__\":\n",
    "    test_visitor()\n"
   ]
  },
  {
   "cell_type": "code",
   "execution_count": null,
   "id": "9efe9359",
   "metadata": {},
   "outputs": [],
   "source": []
  }
 ],
 "metadata": {
  "kernelspec": {
   "display_name": "Python 3 (ipykernel)",
   "language": "python",
   "name": "python3"
  },
  "language_info": {
   "codemirror_mode": {
    "name": "ipython",
    "version": 3
   },
   "file_extension": ".py",
   "mimetype": "text/x-python",
   "name": "python",
   "nbconvert_exporter": "python",
   "pygments_lexer": "ipython3",
   "version": "3.10.9"
  }
 },
 "nbformat": 4,
 "nbformat_minor": 5
}
