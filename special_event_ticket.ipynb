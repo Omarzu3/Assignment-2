{
 "cells": [
  {
   "cell_type": "code",
   "execution_count": 2,
   "id": "48acb049",
   "metadata": {},
   "outputs": [],
   "source": [
    "from ticket import Ticket\n",
    "from specialEvent import SpecialEvent\n",
    "from datetime import date\n",
    "\n",
    "class SpecialEventTicket(Ticket):\n",
    "    def __init__(self, id: int, visitor: 'Visitor', price: float, date: date, event: SpecialEvent):\n",
    "        # Initialize SpecialEventTicket object with id, visitor, price, date, and event\n",
    "        super().__init__(id, visitor, price, date)\n",
    "        self.event = event\n",
    "\n",
    "    def calculateFinalPrice(self) -> float:\n",
    "        # Calculate the final price of the ticket\n",
    "        return self.price\n"
   ]
  },
  {
   "cell_type": "code",
   "execution_count": null,
   "id": "6e48bf61",
   "metadata": {},
   "outputs": [],
   "source": []
  },
  {
   "cell_type": "code",
   "execution_count": null,
   "id": "ea5b211e",
   "metadata": {},
   "outputs": [],
   "source": []
  }
 ],
 "metadata": {
  "kernelspec": {
   "display_name": "Python 3 (ipykernel)",
   "language": "python",
   "name": "python3"
  },
  "language_info": {
   "codemirror_mode": {
    "name": "ipython",
    "version": 3
   },
   "file_extension": ".py",
   "mimetype": "text/x-python",
   "name": "python",
   "nbconvert_exporter": "python",
   "pygments_lexer": "ipython3",
   "version": "3.10.9"
  }
 },
 "nbformat": 4,
 "nbformat_minor": 5
}
