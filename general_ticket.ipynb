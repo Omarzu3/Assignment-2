{
 "cells": [
  {
   "cell_type": "code",
   "execution_count": 4,
   "id": "87e63748",
   "metadata": {},
   "outputs": [],
   "source": [
    "from ticket import Ticket\n",
    "from datetime import date\n",
    "\n",
    "class GeneralTicket(Ticket):\n",
    "    def __init__(self, id: int, visitor: 'Visitor', price: float, date: date):\n",
    "        # Initialize GeneralTicket object with id, visitor, price, and date\n",
    "        super().__init__(id, visitor, price, date)\n",
    "\n",
    "    def calculateFinalPrice(self) -> float:\n",
    "        # Calculate the final price of the ticket\n",
    "        return self.price\n"
   ]
  },
  {
   "cell_type": "code",
   "execution_count": null,
   "id": "c4d1d3b5",
   "metadata": {},
   "outputs": [],
   "source": []
  }
 ],
 "metadata": {
  "kernelspec": {
   "display_name": "Python 3 (ipykernel)",
   "language": "python",
   "name": "python3"
  },
  "language_info": {
   "codemirror_mode": {
    "name": "ipython",
    "version": 3
   },
   "file_extension": ".py",
   "mimetype": "text/x-python",
   "name": "python",
   "nbconvert_exporter": "python",
   "pygments_lexer": "ipython3",
   "version": "3.10.9"
  }
 },
 "nbformat": 4,
 "nbformat_minor": 5
}
