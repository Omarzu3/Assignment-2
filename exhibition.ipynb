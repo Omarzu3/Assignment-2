{
 "cells": [
  {
   "cell_type": "code",
   "execution_count": 1,
   "id": "9cb10e59",
   "metadata": {},
   "outputs": [],
   "source": [
    "class Exhibition:\n",
    "    def __init__(self, id: int, title: str, startDate: date, endDate: date, location: 'Location'):\n",
    "        # Initialize Exhibition object with id, title, start date, end date, and location\n",
    "        self.__id = id\n",
    "        self.title = title\n",
    "        self.startDate = startDate\n",
    "        self.endDate = endDate\n",
    "        self.location = location\n",
    "\n",
    "    def getId(self) -> int:\n",
    "        # Get the ID of the exhibition\n",
    "        return self.__id\n",
    "\n",
    "    def setId(self, id: int) -> None:\n",
    "        # Set the ID of the exhibition\n",
    "        self.__id = id\n",
    "\n",
    "    def getTitle(self) -> str:\n",
    "        # Get the title of the exhibition\n",
    "        return self.title\n",
    "\n",
    "    def setTitle(self, title: str) -> None:\n",
    "        # Set the title of the exhibition\n",
    "        self.title = title\n",
    "\n",
    "    def getStartDate(self) -> date:\n",
    "        # Get the start date of the exhibition\n",
    "        return self.startDate\n",
    "\n",
    "    def setStartDate(self, startDate: date) -> None:\n",
    "        # Set the start date of the exhibition\n",
    "        self.startDate = startDate\n",
    "\n",
    "    def getEndDate(self) -> date:\n",
    "        # Get the end date of the exhibition\n",
    "        return self.endDate\n",
    "\n",
    "    def setEndDate(self, endDate: date) -> None:\n",
    "        # Set the end date of the exhibition\n",
    "        self.endDate = endDate\n",
    "\n",
    "    def getLocation(self) -> 'Location':\n",
    "        # Get the location of the exhibition\n",
    "        return self.location\n",
    "\n",
    "    def setLocation(self, location: 'Location') -> None:\n",
    "        # Set the location of the exhibition\n",
    "        self.location = location\n"
   ]
  },
  {
   "cell_type": "code",
   "execution_count": null,
   "id": "a50308d5",
   "metadata": {},
   "outputs": [],
   "source": []
  },
  {
   "cell_type": "code",
   "execution_count": null,
   "id": "362ef27c",
   "metadata": {},
   "outputs": [],
   "source": []
  }
 ],
 "metadata": {
  "kernelspec": {
   "display_name": "Python 3 (ipykernel)",
   "language": "python",
   "name": "python3"
  },
  "language_info": {
   "codemirror_mode": {
    "name": "ipython",
    "version": 3
   },
   "file_extension": ".py",
   "mimetype": "text/x-python",
   "name": "python",
   "nbconvert_exporter": "python",
   "pygments_lexer": "ipython3",
   "version": "3.10.9"
  }
 },
 "nbformat": 4,
 "nbformat_minor": 5
}
