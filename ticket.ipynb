{
 "cells": [
  {
   "cell_type": "code",
   "execution_count": 1,
   "id": "4439babf",
   "metadata": {},
   "outputs": [],
   "source": [
    "from datetime import date\n",
    "\n",
    "class Ticket:\n",
    "    def __init__(self, id: int, visitor: 'Visitor', price: float, date: date):\n",
    "        # Initialize Ticket object with id, visitor, price, and date\n",
    "        self.__id = id\n",
    "        self.visitor = visitor\n",
    "        self.price = price\n",
    "        self.date = date\n",
    "\n",
    "    def getId(self) -> int:\n",
    "        # Get the ID of the ticket\n",
    "        return self.__id\n",
    "\n",
    "    def setId(self, id: int) -> None:\n",
    "        # Set the ID of the ticket\n",
    "        self.__id = id\n",
    "\n",
    "    def getVisitor(self) -> 'Visitor':\n",
    "        # Get the visitor associated with the ticket\n",
    "        return self.visitor\n",
    "\n",
    "    def setVisitor(self, visitor: 'Visitor') -> None:\n",
    "        # Set the visitor associated with the ticket\n",
    "        self.visitor = visitor\n",
    "\n",
    "    def getPrice(self) -> float:\n",
    "        # Get the price of the ticket\n",
    "        return self.price\n",
    "\n",
    "    def setPrice(self, price: float) -> None:\n",
    "        # Set the price of the ticket\n",
    "        self.price = price\n",
    "\n",
    "    def getDate(self) -> date:\n",
    "        # Get the date of the ticket\n",
    "        return self.date\n",
    "\n",
    "    def setDate(self, date: date) -> None:\n",
    "        # Set the date of the ticket\n",
    "        self.date = date\n",
    "\n",
    "    def calculateFinalPrice(self) -> float:\n",
    "        # Abstract method to calculate the final price of the ticket\n",
    "        raise NotImplementedError(\"Method 'calculateFinalPrice' must be implemented in subclass.\")\n"
   ]
  },
  {
   "cell_type": "code",
   "execution_count": null,
   "id": "61b951d3",
   "metadata": {},
   "outputs": [],
   "source": []
  }
 ],
 "metadata": {
  "kernelspec": {
   "display_name": "Python 3 (ipykernel)",
   "language": "python",
   "name": "python3"
  },
  "language_info": {
   "codemirror_mode": {
    "name": "ipython",
    "version": 3
   },
   "file_extension": ".py",
   "mimetype": "text/x-python",
   "name": "python",
   "nbconvert_exporter": "python",
   "pygments_lexer": "ipython3",
   "version": "3.10.9"
  }
 },
 "nbformat": 4,
 "nbformat_minor": 5
}
