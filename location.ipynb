{
 "cells": [
  {
   "cell_type": "code",
   "execution_count": 5,
   "id": "c97c4fa6",
   "metadata": {},
   "outputs": [],
   "source": [
    "class Location:\n",
    "    def __init__(self, id: int, name: str):\n",
    "        # Initialize Location object with id and name.\n",
    "        self.__id = id\n",
    "        self.name = name\n",
    "\n",
    "    def getId(self) -> int:\n",
    "        # Get the ID of the location.\n",
    "        return self.__id\n",
    "\n",
    "    def getName(self) -> str:\n",
    "        # Get the name of the location.\n",
    "        return self.name\n",
    "\n",
    "    def __eq__(self, other):\n",
    "        # Override the equality comparison to compare Location objects based on id and name.\n",
    "        if not isinstance(other, Location):\n",
    "            return False\n",
    "        return self.__id == other.__id and self.name == other.name\n",
    "    \n",
    "    def __str__(self):\n",
    "        # Return a string representation of the Location object.\n",
    "        return f\"Location ID: {self.__id}, Name: {self.name}\"\n"
   ]
  },
  {
   "cell_type": "code",
   "execution_count": null,
   "id": "9a813d3e",
   "metadata": {},
   "outputs": [],
   "source": []
  },
  {
   "cell_type": "code",
   "execution_count": null,
   "id": "a9f02473",
   "metadata": {},
   "outputs": [],
   "source": []
  }
 ],
 "metadata": {
  "kernelspec": {
   "display_name": "Python 3 (ipykernel)",
   "language": "python",
   "name": "python3"
  },
  "language_info": {
   "codemirror_mode": {
    "name": "ipython",
    "version": 3
   },
   "file_extension": ".py",
   "mimetype": "text/x-python",
   "name": "python",
   "nbconvert_exporter": "python",
   "pygments_lexer": "ipython3",
   "version": "3.10.9"
  }
 },
 "nbformat": 4,
 "nbformat_minor": 5
}
