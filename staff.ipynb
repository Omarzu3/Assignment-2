{
 "cells": [
  {
   "cell_type": "code",
   "execution_count": 1,
   "id": "1bab1c71",
   "metadata": {},
   "outputs": [],
   "source": [
    "class Staff:\n",
    "    def __init__(self, id: int, name: str, role: str):\n",
    "        # Initialize Staff object with id, name, and role\n",
    "        self.__id = id\n",
    "        self.name = name\n",
    "        self.role = role\n",
    "\n",
    "    def getId(self) -> int:\n",
    "        # Get the ID of the staff member\n",
    "        return self.__id\n",
    "\n",
    "    def getName(self) -> str:\n",
    "        # Get the name of the staff member\n",
    "        return self.name\n",
    "\n",
    "    def getRole(self) -> str:\n",
    "        # Get the role of the staff member\n",
    "        return self.role\n",
    "\n",
    "    def setId(self, id: int) -> None:\n",
    "        # Set the ID of the staff member\n",
    "        self.__id = id\n",
    "\n",
    "    def setName(self, name: str) -> None:\n",
    "        # Set the name of the staff member\n",
    "        self.name = name\n",
    "\n",
    "    def setRole(self, role: str) -> None:\n",
    "        # Set the role of the staff member\n",
    "        self.role = role\n"
   ]
  },
  {
   "cell_type": "code",
   "execution_count": null,
   "id": "2843cf8d",
   "metadata": {},
   "outputs": [],
   "source": []
  },
  {
   "cell_type": "code",
   "execution_count": null,
   "id": "212ecb64",
   "metadata": {},
   "outputs": [],
   "source": []
  }
 ],
 "metadata": {
  "kernelspec": {
   "display_name": "Python 3 (ipykernel)",
   "language": "python",
   "name": "python3"
  },
  "language_info": {
   "codemirror_mode": {
    "name": "ipython",
    "version": 3
   },
   "file_extension": ".py",
   "mimetype": "text/x-python",
   "name": "python",
   "nbconvert_exporter": "python",
   "pygments_lexer": "ipython3",
   "version": "3.10.9"
  }
 },
 "nbformat": 4,
 "nbformat_minor": 5
}
